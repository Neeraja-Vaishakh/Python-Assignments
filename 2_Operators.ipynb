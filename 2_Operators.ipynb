{
 "cells": [
  {
   "cell_type": "code",
   "execution_count": 4,
   "id": "23a9d2f9",
   "metadata": {},
   "outputs": [
    {
     "name": "stdout",
     "output_type": "stream",
     "text": [
      "addition 16\n",
      "sub 4\n",
      "mult 60\n",
      "div 1.6666666666666667\n"
     ]
    }
   ],
   "source": [
    "#Write a function for arithmetic operators(+,-,*,/)?\n",
    "\n",
    "def Arithmetic():\n",
    "    a = int\n",
    "    b = 6\n",
    "    print(\"addition\", a+b)\n",
    "    print(\"sub\", a-b)\n",
    "    print(\"mult\", a*b)\n",
    "    print(\"div\", a/b)\n",
    "Arithmetic()\n"
   ]
  },
  {
   "cell_type": "code",
   "execution_count": 5,
   "id": "ce9f311d",
   "metadata": {},
   "outputs": [
    {
     "name": "stdout",
     "output_type": "stream",
     "text": [
      "11\n",
      "9\n"
     ]
    }
   ],
   "source": [
    "#Write a method for increment and decrement operators(++, --)?\n",
    "\n",
    "x = 10\n",
    "x += 1\n",
    "y = 10\n",
    "y -= 1\n",
    "print(x)\n",
    "print(y)\n"
   ]
  },
  {
   "cell_type": "code",
   "execution_count": 10,
   "id": "f8fe155b",
   "metadata": {},
   "outputs": [
    {
     "name": "stdout",
     "output_type": "stream",
     "text": [
      "enter the number 4\n",
      "enter the number 4\n",
      "equal\n"
     ]
    }
   ],
   "source": [
    "#Write a program to find the two numbers equal or not?\n",
    "a = input(\"enter the number \")\n",
    "b = input(\"enter the number \")\n",
    "if(a==b):\n",
    "    print(\"equal\")\n",
    "else:\n",
    "    print(\"not equal\")"
   ]
  },
  {
   "cell_type": "code",
   "execution_count": 19,
   "id": "871c22dc",
   "metadata": {},
   "outputs": [
    {
     "name": "stdout",
     "output_type": "stream",
     "text": [
      "False\n",
      "False\n",
      "True\n",
      "True\n"
     ]
    }
   ],
   "source": [
    "#Program for relational operators (<,<==, >, >==)?\n",
    "\n",
    "a = 6\n",
    "b = 4\n",
    "print(a<b)\n",
    "print(a<=b)\n",
    "print(a>b)\n",
    "print(a>=b)\n",
    "\n",
    "\n"
   ]
  },
  {
   "cell_type": "code",
   "execution_count": 18,
   "id": "4f4fab2a",
   "metadata": {},
   "outputs": [
    {
     "name": "stdout",
     "output_type": "stream",
     "text": [
      "enter the number99\n",
      "enter the number98\n",
      "largest number is  99\n"
     ]
    }
   ],
   "source": [
    "#Print the smaller and larger number?\n",
    "\n",
    "a = input(\"enter the number\")\n",
    "b = input(\"enter the number\")\n",
    "if(a>b):\n",
    "    print(\"largest number is \", a)\n",
    "else:\n",
    "    print(\"largest number is \", b)"
   ]
  }
 ],
 "metadata": {
  "kernelspec": {
   "display_name": "Python 3",
   "language": "python",
   "name": "python3"
  },
  "language_info": {
   "codemirror_mode": {
    "name": "ipython",
    "version": 3
   },
   "file_extension": ".py",
   "mimetype": "text/x-python",
   "name": "python",
   "nbconvert_exporter": "python",
   "pygments_lexer": "ipython3",
   "version": "3.8.8"
  }
 },
 "nbformat": 4,
 "nbformat_minor": 5
}
