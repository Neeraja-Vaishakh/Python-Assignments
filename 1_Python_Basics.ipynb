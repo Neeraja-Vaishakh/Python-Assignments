{
 "cells": [
  {
   "cell_type": "code",
   "execution_count": 2,
   "id": "8aad5460",
   "metadata": {},
   "outputs": [
    {
     "name": "stdout",
     "output_type": "stream",
     "text": [
      "I'm Neeraja T\n"
     ]
    }
   ],
   "source": [
    "#Write a program to print your name?\n",
    "\n",
    "print(\"I'm Neeraja T\")"
   ]
  },
  {
   "cell_type": "code",
   "execution_count": 3,
   "id": "c0a4bb90",
   "metadata": {},
   "outputs": [
    {
     "data": {
      "text/plain": [
       "'This is a\\nmultiline comment in python\\nwhich expands to many lines'"
      ]
     },
     "execution_count": 3,
     "metadata": {},
     "output_type": "execute_result"
    }
   ],
   "source": [
    "#write a program for a single line comment and multilne comment?\n",
    "\n",
    "#this is a single line comment\n",
    "\n",
    "\"\"\"This is a\n",
    "multiline comment in python\n",
    "which expands to many lines\"\"\""
   ]
  },
  {
   "cell_type": "code",
   "execution_count": 7,
   "id": "8054bcd1",
   "metadata": {},
   "outputs": [
    {
     "name": "stdout",
     "output_type": "stream",
     "text": [
      "<class 'int'>\n",
      "<class 'str'>\n",
      "<class 'float'>\n",
      "<class 'float'>\n",
      "<class 'bool'>\n"
     ]
    }
   ],
   "source": [
    "#Define variables for different Data Types int, Boolean, char, float, double and print on the Console?\n",
    "\n",
    "n = 12\n",
    "a = 'c'\n",
    "b = 3.123\n",
    "c = 3.123456\n",
    "d = (3==4)\n",
    "\n",
    "print(type(n))\n",
    "print(type(a))\n",
    "print(type(b))\n",
    "print(type(c))\n",
    "print(type(d))"
   ]
  },
  {
   "cell_type": "code",
   "execution_count": 9,
   "id": "b70a26ca",
   "metadata": {},
   "outputs": [
    {
     "name": "stdout",
     "output_type": "stream",
     "text": [
      "second name Nikitha\n",
      "first name Neeraja\n"
     ]
    }
   ],
   "source": [
    "#Define the local and Global variables with the same name and print both variables and understand the scope of the variables?\n",
    "\n",
    "name = \"Neeraja\"                  #global variable\n",
    "\n",
    "def PrintName():\n",
    "    name = \"Nikitha\"              #local variable\n",
    "    print(\"second name\", name)\n",
    "PrintName()\n",
    "\n",
    "print(\"first name\", name)\n",
    "    "
   ]
  },
  {
   "cell_type": "code",
   "execution_count": null,
   "id": "e1bfcdf4",
   "metadata": {},
   "outputs": [],
   "source": []
  }
 ],
 "metadata": {
  "kernelspec": {
   "display_name": "Python 3",
   "language": "python",
   "name": "python3"
  },
  "language_info": {
   "codemirror_mode": {
    "name": "ipython",
    "version": 3
   },
   "file_extension": ".py",
   "mimetype": "text/x-python",
   "name": "python",
   "nbconvert_exporter": "python",
   "pygments_lexer": "ipython3",
   "version": "3.8.8"
  }
 },
 "nbformat": 4,
 "nbformat_minor": 5
}
